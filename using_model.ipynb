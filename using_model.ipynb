{
 "cells": [
  {
   "cell_type": "code",
   "execution_count": 1,
   "metadata": {},
   "outputs": [],
   "source": [
    "import numpy as np "
   ]
  },
  {
   "cell_type": "code",
   "execution_count": 2,
   "metadata": {},
   "outputs": [
    {
     "name": "stdout",
     "output_type": "stream",
     "text": [
      "Checkpoint loaded successfully!\n",
      "Available keys: dict_keys(['epoch', 'model_state_dict', 'optimizer_state_dict', 'best_val_loss'])\n"
     ]
    }
   ],
   "source": [
    "import torch\n",
    "\n",
    "checkpoint_path = \"checkpoint.pth\"\n",
    "\n",
    "# Load the checkpoint with `weights_only=False`\n",
    "checkpoint = torch.load(checkpoint_path, map_location=\"cpu\", weights_only=False)\n",
    "\n",
    "print(\"Checkpoint loaded successfully!\")\n",
    "print(\"Available keys:\", checkpoint.keys())  # Check contents\n"
   ]
  },
  {
   "cell_type": "code",
   "execution_count": 3,
   "metadata": {},
   "outputs": [
    {
     "name": "stdout",
     "output_type": "stream",
     "text": [
      "Checkpoint loaded successful/usr/bin/python3 -m pip install ipykernel -U --user --force-reinstallly!\n",
      "Available keys: dict_keys(['epoch', 'model_state_dict', 'optimizer_state_dict', 'best_val_loss'])\n"
     ]
    }
   ],
   "source": [
    "\n",
    "# Load the checkpoint with `weights_only=False`\n",
    "checkpoint = torch.load(checkpoint_path, map_location=\"cpu\", weights_only=False)\n",
    "\n",
    "print(\"Checkpoint loaded successful/usr/bin/python3 -m pip install ipykernel -U --user --force-reinstallly!\")\n",
    "print(\"Available keys:\", checkpoint.keys())  # Check contents\n"
   ]
  },
  {
   "cell_type": "code",
   "execution_count": 8,
   "metadata": {},
   "outputs": [
    {
     "name": "stdout",
     "output_type": "stream",
     "text": [
      "Encoded Label -> Original Label Mapping:\n",
      "0 -> AK\n",
      "1 -> BCC\n",
      "2 -> BKL\n",
      "3 -> DF\n",
      "4 -> MEL\n",
      "5 -> NV\n",
      "6 -> VASC\n"
     ]
    }
   ],
   "source": [
    "from sklearn.preprocessing import LabelEncoder\n",
    "\n",
    "# Define the original class labels\n",
    "class_labels = [\"AK\", \"BCC\", \"BKL\", \"DF\", \"MEL\", \"NV\", \"VASC\"]\n",
    "\n",
    "# Initialize and fit LabelEncoder\n",
    "label_encoder = LabelEncoder()\n",
    "label_encoder.fit(class_labels)\n",
    "\n",
    "# Get the mapping of label names to their encoded numbers\n",
    "label_mapping = dict(zip(label_encoder.classes_, label_encoder.transform(label_encoder.classes_)))\n",
    "\n",
    "# Reverse the mapping\n",
    "inverse_label_mapping = {v: k for k, v in label_mapping.items()}\n",
    "\n",
    "# Print the mappings\n",
    "print(\"Encoded Label -> Original Label Mapping:\")\n",
    "for encoded, original in inverse_label_mapping.items():\n",
    "    print(f\"{encoded} -> {original}\")\n"
   ]
  },
  {
   "cell_type": "code",
   "execution_count": 9,
   "metadata": {},
   "outputs": [
    {
     "name": "stderr",
     "output_type": "stream",
     "text": [
      "/home/som/Desktop/SkinCancer/.venvsom/lib/python3.13/site-packages/tqdm/auto.py:21: TqdmWarning: IProgress not found. Please update jupyter and ipywidgets. See https://ipywidgets.readthedocs.io/en/stable/user_install.html\n",
      "  from .autonotebook import tqdm as notebook_tqdm\n",
      "/home/som/Desktop/SkinCancer/.venvsom/lib/python3.13/site-packages/timm/models/_factory.py:126: UserWarning: Mapping deprecated model name vit_base_patch16_224_in21k to current vit_base_patch16_224.augreg_in21k.\n",
      "  model = create_fn(\n"
     ]
    },
    {
     "name": "stdout",
     "output_type": "stream",
     "text": [
      "Predicted Class: AK\n"
     ]
    }
   ],
   "source": [
    "import torch\n",
    "import timm\n",
    "import torch.nn as nn\n",
    "import torchvision.transforms as transforms\n",
    "from PIL import Image\n",
    "# --------------------------\n",
    "# 🖥️ Modified ViT Model\n",
    "# --------------------------\n",
    "class HybridMHSA(nn.Module):\n",
    "    def __init__(self, dim, num_heads, dropout=0.1):\n",
    "        super(HybridMHSA, self).__init__()\n",
    "        self.mhsa = nn.MultiheadAttention(embed_dim=dim, num_heads=num_heads, dropout=dropout)\n",
    "        self.conv = nn.Conv1d(dim, dim, kernel_size=3, padding=1, groups=num_heads)\n",
    "        self.norm = nn.LayerNorm(dim)\n",
    "        self.dropout = nn.Dropout(dropout)\n",
    "\n",
    "    def forward(self, x):\n",
    "        attn_output, _ = self.mhsa(x, x, x)\n",
    "        attn_output = self.dropout(attn_output)\n",
    "        conv_output = self.conv(x.permute(1, 2, 0))\n",
    "        conv_output = conv_output.permute(2, 0, 1)\n",
    "        x = attn_output + conv_output\n",
    "        x = self.norm(x)\n",
    "        return x\n",
    "\n",
    "class ModifiedViT(nn.Module):\n",
    "    def __init__(self, pretrained_model_name, num_classes, dropout=0.1):\n",
    "        super(ModifiedViT, self).__init__()\n",
    "        self.base_model = timm.create_model(pretrained_model_name, pretrained=False, drop_path_rate=dropout)\n",
    "        self.num_classes = num_classes\n",
    "\n",
    "        # Replace MHSA with HybridMHSA\n",
    "        for name, module in self.base_model.named_modules():\n",
    "            if isinstance(module, nn.MultiheadAttention):\n",
    "                setattr(\n",
    "                    self.base_model,\n",
    "                    name,\n",
    "                    HybridMHSA(\n",
    "                        dim=module.embed_dim,\n",
    "                        num_heads=module.num_heads,\n",
    "                        dropout=dropout\n",
    "                    )\n",
    "                )\n",
    "\n",
    "        # Update classification head\n",
    "        self.base_model.head = nn.Linear(self.base_model.head.in_features, num_classes)\n",
    "\n",
    "    def forward(self, x):\n",
    "        return self.base_model(x)\n",
    "\n",
    "# --------------------------\n",
    "# 🏋️ Load Model from Checkpoint\n",
    "# --------------------------\n",
    "def load_model(checkpoint_path, num_classes=7, device=\"cpu\"):\n",
    "    model = ModifiedViT('vit_base_patch16_224_in21k', num_classes=num_classes, dropout=0.1).to(device)\n",
    "    checkpoint_pat =\"checkpoint.pth\"\n",
    "\n",
    "    checkpoint = torch.load(checkpoint_pat, map_location=device, weights_only=False)\n",
    "\n",
    "    # Load only the model weights\n",
    "    model.load_state_dict(checkpoint[\"model_state_dict\"])\n",
    "\n",
    "    model.eval()  # Set to evaluation mode\n",
    "    return model\n",
    "\n",
    "# --------------------------\n",
    "# 📷 Image Preprocessing\n",
    "# --------------------------\n",
    "def preprocess_image(image_path):\n",
    "    transform = transforms.Compose([\n",
    "        transforms.Resize((224, 224)),\n",
    "        transforms.ToTensor(),\n",
    "        transforms.Normalize(mean=[0.5]*3, std=[0.5]*3)\n",
    "    ])\n",
    "    image = Image.open(image_path).convert(\"RGB\")\n",
    "    return transform(image).unsqueeze(0)  # Add batch dimension\n",
    "\n",
    "# --------------------------\n",
    "# 🔍 Run Inference\n",
    "# --------------------------\n",
    "def predict(model, image_path, label_mapping, device=\"cpu\"):\n",
    "    image = preprocess_image(image_path).to(device)\n",
    "    with torch.no_grad():\n",
    "        output = model(image)\n",
    "        predicted_class = output.argmax(dim=1).item()\n",
    "    \n",
    "    # Convert numeric prediction to class name\n",
    "    predicted_label = label_mapping.get(predicted_class, \"Unknown\")\n",
    "    \n",
    "    return predicted_label\n",
    "\n",
    "# --------------------------\n",
    "# 🚀 Main Function\n",
    "# --------------------------\n",
    "def main():\n",
    "    device = torch.device(\"cuda\" if torch.cuda.is_available() else \"cpu\")\n",
    "    model = load_model(\"best_model.pth\", device=device)\n",
    "\n",
    "    # Define label mapping (from your LabelEncoder)\n",
    "    label_mapping = {i: label for i, label in enumerate(label_encoder.classes_)}\n",
    "\n",
    "    image_path = input(\"Enter the image path: \").strip()\n",
    "    predicted_label = predict(model, image_path, label_mapping, device=device)\n",
    "\n",
    "    print(f\"Predicted Class: {predicted_label}\")\n",
    "\n",
    "if __name__ == \"__main__\":\n",
    "    main()\n"
   ]
  },
  {
   "cell_type": "code",
   "execution_count": null,
   "metadata": {},
   "outputs": [],
   "source": []
  }
 ],
 "metadata": {
  "kernelspec": {
   "display_name": ".venvsom",
   "language": "python",
   "name": "python3"
  },
  "language_info": {
   "codemirror_mode": {
    "name": "ipython",
    "version": 3
   },
   "file_extension": ".py",
   "mimetype": "text/x-python",
   "name": "python",
   "nbconvert_exporter": "python",
   "pygments_lexer": "ipython3",
   "version": "3.13.2"
  }
 },
 "nbformat": 4,
 "nbformat_minor": 2
}
